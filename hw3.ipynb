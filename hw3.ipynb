{
 "cells": [
  {
   "cell_type": "markdown",
   "metadata": {},
   "source": [
    "# Введение в искусственные нейронные сети\n",
    "# Урок 3. TensorFlow"
   ]
  },
  {
   "cell_type": "markdown",
   "metadata": {},
   "source": [
    "## Практическое задание\n",
    "\n",
    "<ol>\n",
    "    <li>Попробуйте обучить нейронную сеть на TensorFlow 2 на любом датасете imdb_reviews. \n",
    "        Опишите в комментарии к уроку - какой результата вы добились от нейросети? Что помогло вам улучшить ее точность?<br><br>\n",
    "    </li>\n",
    "    <li>*2. Поработайте с документацией TensorFlow 2. Найдите полезные команды не разобранные на уроке.</li>\n",
    "    \n",
    "    \n",
    "</ol>"
   ]
  },
  {
   "cell_type": "markdown",
   "metadata": {},
   "source": [
    "Использовалось задание https://github.com/kesch9/NN_Base/blob/83abacc83af47a0821e3754e8ccedcf567e8152f/Lesson_3/Task_3.ipynb\n",
    "с разбором функций\n"
   ]
  },
  {
   "cell_type": "code",
   "execution_count": 80,
   "metadata": {
    "colab": {},
    "colab_type": "code",
    "id": "dzLKpmZICaWN"
   },
   "outputs": [
    {
     "name": "stdout",
     "output_type": "stream",
     "text": [
      "Version:  2.2.0\n",
      "Eager mode:  True\n",
      "GPU is NOT AVAILABLE\n"
     ]
    }
   ],
   "source": [
    "from __future__ import absolute_import, division, print_function, unicode_literals\n",
    "\n",
    "# TensorFlow and tf.keras\n",
    "import tensorflow as tf\n",
    "from tensorflow import keras\n",
    "import tensorflow_datasets as tfds\n",
    "import tensorflow_hub as hub\n",
    "import datetime\n",
    "import pydot\n",
    "\n",
    "\n",
    "# Helper libraries\n",
    "import numpy as np\n",
    "import matplotlib.pyplot as plt\n",
    "\n",
    "\n",
    "print(\"Version: \", tf.__version__)\n",
    "print(\"Eager mode: \", tf.executing_eagerly())\n",
    "# print(\"Hub version: \", hub.__version__)\n",
    "print(\"GPU is\", \"available\" if tf.config.experimental.list_physical_devices(\"GPU\") else \"NOT AVAILABLE\")"
   ]
  },
  {
   "cell_type": "code",
   "execution_count": null,
   "metadata": {},
   "outputs": [],
   "source": []
  },
  {
   "cell_type": "code",
   "execution_count": 28,
   "metadata": {
    "scrolled": true
   },
   "outputs": [
    {
     "data": {
      "text/plain": [
       "<tf.Tensor: shape=(15,), dtype=int64, numpy=array([0, 0, 0, 1, 1, 1, 0, 0, 0, 0, 0, 1, 1, 0, 1])>"
      ]
     },
     "execution_count": 28,
     "metadata": {},
     "output_type": "execute_result"
    }
   ],
   "source": [
    "# Разобьем обучающую выборку \n",
    "# https://www.tensorflow.org/datasets/api_docs/python/tfds/load - про параметры загрузки и разбивки сета\n",
    "train_data, validation_data, test_data = tfds.load(  \n",
    "    name=\"imdb_reviews\", \n",
    "    split=('train[:70%]', 'train[10%:80%]', 'test[90%:]'),\n",
    "    as_supervised=True)\n",
    "\n",
    "\n",
    "train_examples_batch, train_labels_batch = next(iter(train_data.batch(15)))\n",
    "# print(train_examples_batch)\n",
    "train_labels_batch"
   ]
  },
  {
   "cell_type": "code",
   "execution_count": 42,
   "metadata": {},
   "outputs": [
    {
     "data": {
      "text/plain": [
       "<tf.Tensor: shape=(2, 20), dtype=float32, numpy=\n",
       "array([[ 1.765786  , -3.882232  ,  3.9134233 , -1.5557289 , -3.3362343 ,\n",
       "        -1.7357955 , -1.9954445 ,  1.2989551 ,  5.081598  , -1.1041286 ,\n",
       "        -2.0503852 , -0.72675157, -0.65675956,  0.24436149, -3.7208383 ,\n",
       "         2.0954835 ,  2.2969332 , -2.0689783 , -2.9489717 , -1.1315987 ],\n",
       "       [ 1.8804485 , -2.5852382 ,  3.4066997 ,  1.0982676 , -4.056685  ,\n",
       "        -4.891284  , -2.785554  ,  1.3874227 ,  3.8476458 , -0.9256538 ,\n",
       "        -1.896706  ,  1.2113281 ,  0.11474707,  0.76209456, -4.8791065 ,\n",
       "         2.906149  ,  4.7087674 , -2.3652055 , -3.5015898 , -1.6390051 ]],\n",
       "      dtype=float32)>"
      ]
     },
     "execution_count": 42,
     "metadata": {},
     "output_type": "execute_result"
    }
   ],
   "source": [
    "embedding = \"https://tfhub.dev/google/tf2-preview/gnews-swivel-20dim/1\"\n",
    "# https://habr.com/ru/company/ods/blog/329410/ -  про пространство слов-векторов\n",
    "\n",
    "# сделали слой с векторами слов по 20 измерениям\n",
    "hub_layer = hub.KerasLayer(embedding, input_shape=[], \n",
    "                           dtype=tf.string, trainable=True)\n",
    "\n",
    "hub_layer(train_examples_batch[:2])"
   ]
  },
  {
   "cell_type": "code",
   "execution_count": 54,
   "metadata": {
    "scrolled": true
   },
   "outputs": [
    {
     "name": "stdout",
     "output_type": "stream",
     "text": [
      "Model: \"sequential_5\"\n",
      "_________________________________________________________________\n",
      "Layer (type)                 Output Shape              Param #   \n",
      "=================================================================\n",
      "keras_layer_6 (KerasLayer)   (None, 20)                400020    \n",
      "_________________________________________________________________\n",
      "dense_11 (Dense)             (None, 16)                336       \n",
      "_________________________________________________________________\n",
      "dense_12 (Dense)             (None, 1)                 17        \n",
      "=================================================================\n",
      "Total params: 400,373\n",
      "Trainable params: 400,373\n",
      "Non-trainable params: 0\n",
      "_________________________________________________________________\n"
     ]
    }
   ],
   "source": [
    "# Параметры нейросети\n",
    "model = tf.keras.Sequential()\n",
    "model.add(hub_layer) # подгрузили слой с векторами \n",
    "\n",
    "# https://www.tensorflow.org/api_docs/python/tf/keras/layers/Dense\n",
    "# model.add(tf.keras.layers.Dense(20, activation='relu')) # полносвязный слой с 20 нейронами  \n",
    "model.add(tf.keras.layers.Dense(16, activation='relu')) # полносвязный слой с 16 нейронами  \n",
    "model.add(tf.keras.layers.Dense(1, activation='sigmoid')) # выходной слой\n",
    "\n",
    "model.summary()"
   ]
  },
  {
   "cell_type": "code",
   "execution_count": 68,
   "metadata": {},
   "outputs": [
    {
     "name": "stdout",
     "output_type": "stream",
     "text": [
      "Model: \"sequential_7\"\n",
      "_________________________________________________________________\n",
      "Layer (type)                 Output Shape              Param #   \n",
      "=================================================================\n",
      "keras_layer_6 (KerasLayer)   (None, 20)                400020    \n",
      "_________________________________________________________________\n",
      "dense_15 (Dense)             (None, 128)               2688      \n",
      "_________________________________________________________________\n",
      "dense_16 (Dense)             (None, 1)                 129       \n",
      "=================================================================\n",
      "Total params: 402,837\n",
      "Trainable params: 402,837\n",
      "Non-trainable params: 0\n",
      "_________________________________________________________________\n"
     ]
    }
   ],
   "source": [
    "# альтернативный способ собрать слои нейросети\n",
    "model = keras.Sequential([\n",
    "    hub_layer,\n",
    "    keras.layers.Dense(128, activation='relu'),\n",
    "    keras.layers.Dense(1, activation='sigmoid') # сигмоида срабатывает лучше чем softmax\n",
    "])\n",
    "\n",
    "model.summary()"
   ]
  },
  {
   "cell_type": "code",
   "execution_count": 69,
   "metadata": {},
   "outputs": [],
   "source": [
    "'''\n",
    "Loss function — меряет как точно работает нейросеть.\n",
    "Optimizer — определяет способ корректировки весов.\n",
    "Metrics — определяет какие характеристики будут отражаться в процессе обучения.\n",
    "'''\n",
    "model.compile(optimizer='adam',\n",
    "              loss='binary_crossentropy',\n",
    "              metrics=['accuracy'])\n",
    "\n",
    "\n"
   ]
  },
  {
   "cell_type": "code",
   "execution_count": 47,
   "metadata": {
    "scrolled": true
   },
   "outputs": [
    {
     "name": "stdout",
     "output_type": "stream",
     "text": [
      "Epoch 1/20\n",
      "35/35 [==============================] - 3s 77ms/step - loss: 0.8241 - accuracy: 0.5133 - val_loss: 0.7137 - val_accuracy: 0.5697\n",
      "Epoch 2/20\n",
      "35/35 [==============================] - 3s 75ms/step - loss: 0.6672 - accuracy: 0.6103 - val_loss: 0.6210 - val_accuracy: 0.6637\n",
      "Epoch 3/20\n",
      "35/35 [==============================] - 4s 114ms/step - loss: 0.5925 - accuracy: 0.6925 - val_loss: 0.5679 - val_accuracy: 0.7133\n",
      "Epoch 4/20\n",
      "35/35 [==============================] - 3s 84ms/step - loss: 0.5485 - accuracy: 0.7287 - val_loss: 0.5322 - val_accuracy: 0.7439\n",
      "Epoch 5/20\n",
      "35/35 [==============================] - 3s 90ms/step - loss: 0.5122 - accuracy: 0.7586 - val_loss: 0.4948 - val_accuracy: 0.7722\n",
      "Epoch 6/20\n",
      "35/35 [==============================] - 3s 92ms/step - loss: 0.4753 - accuracy: 0.7852 - val_loss: 0.4585 - val_accuracy: 0.7987\n",
      "Epoch 7/20\n",
      "35/35 [==============================] - 3s 73ms/step - loss: 0.4388 - accuracy: 0.8089 - val_loss: 0.4224 - val_accuracy: 0.8201\n",
      "Epoch 8/20\n",
      "35/35 [==============================] - 3s 95ms/step - loss: 0.4009 - accuracy: 0.8307 - val_loss: 0.3845 - val_accuracy: 0.8385\n",
      "Epoch 9/20\n",
      "35/35 [==============================] - 4s 117ms/step - loss: 0.3644 - accuracy: 0.8466 - val_loss: 0.3506 - val_accuracy: 0.8549\n",
      "Epoch 10/20\n",
      "35/35 [==============================] - 3s 75ms/step - loss: 0.3307 - accuracy: 0.8642 - val_loss: 0.3205 - val_accuracy: 0.8679\n",
      "Epoch 11/20\n",
      "35/35 [==============================] - 3s 92ms/step - loss: 0.3021 - accuracy: 0.8762 - val_loss: 0.2950 - val_accuracy: 0.8802\n",
      "Epoch 12/20\n",
      "35/35 [==============================] - 3s 81ms/step - loss: 0.2771 - accuracy: 0.8894 - val_loss: 0.2742 - val_accuracy: 0.8907\n",
      "Epoch 13/20\n",
      "35/35 [==============================] - 3s 77ms/step - loss: 0.2555 - accuracy: 0.8988 - val_loss: 0.2552 - val_accuracy: 0.8995\n",
      "Epoch 14/20\n",
      "35/35 [==============================] - 3s 73ms/step - loss: 0.2369 - accuracy: 0.9083 - val_loss: 0.2406 - val_accuracy: 0.9064\n",
      "Epoch 15/20\n",
      "35/35 [==============================] - 3s 78ms/step - loss: 0.2212 - accuracy: 0.9169 - val_loss: 0.2260 - val_accuracy: 0.9138\n",
      "Epoch 16/20\n",
      "35/35 [==============================] - 3s 83ms/step - loss: 0.2049 - accuracy: 0.9254 - val_loss: 0.2115 - val_accuracy: 0.9217\n",
      "Epoch 17/20\n",
      "35/35 [==============================] - 3s 72ms/step - loss: 0.1911 - accuracy: 0.9322 - val_loss: 0.1998 - val_accuracy: 0.9266\n",
      "Epoch 18/20\n",
      "35/35 [==============================] - 3s 76ms/step - loss: 0.1780 - accuracy: 0.9377 - val_loss: 0.1894 - val_accuracy: 0.9314\n",
      "Epoch 19/20\n",
      "35/35 [==============================] - 3s 77ms/step - loss: 0.1678 - accuracy: 0.9424 - val_loss: 0.1797 - val_accuracy: 0.9365\n",
      "Epoch 20/20\n",
      "35/35 [==============================] - 3s 73ms/step - loss: 0.1560 - accuracy: 0.9478 - val_loss: 0.1719 - val_accuracy: 0.9402\n"
     ]
    }
   ],
   "source": [
    "history = model.fit(train_data.shuffle(10000).batch(512),\n",
    "                    epochs=20,\n",
    "                    validation_data=validation_data.batch(512),\n",
    "                    verbose=1)"
   ]
  },
  {
   "cell_type": "code",
   "execution_count": 56,
   "metadata": {
    "scrolled": false
   },
   "outputs": [
    {
     "name": "stdout",
     "output_type": "stream",
     "text": [
      "Epoch 1/5\n",
      "35/35 [==============================] - 3s 92ms/step - loss: 0.6647 - accuracy: 0.6265 - val_loss: 0.5776 - val_accuracy: 0.7163\n",
      "Epoch 2/5\n",
      "35/35 [==============================] - 3s 74ms/step - loss: 0.5271 - accuracy: 0.7606 - val_loss: 0.4829 - val_accuracy: 0.7981\n",
      "Epoch 3/5\n",
      "35/35 [==============================] - 3s 72ms/step - loss: 0.4438 - accuracy: 0.8229 - val_loss: 0.4123 - val_accuracy: 0.8401\n",
      "Epoch 4/5\n",
      "35/35 [==============================] - 3s 72ms/step - loss: 0.3766 - accuracy: 0.8590 - val_loss: 0.3523 - val_accuracy: 0.8687\n",
      "Epoch 5/5\n",
      "35/35 [==============================] - 3s 73ms/step - loss: 0.3205 - accuracy: 0.8835 - val_loss: 0.3042 - val_accuracy: 0.8898\n"
     ]
    }
   ],
   "source": [
    "history = model.fit(train_data.shuffle(10000).batch(512),\n",
    "                    epochs=5,\n",
    "                    validation_data=validation_data.batch(512),\n",
    "                    verbose=1)"
   ]
  },
  {
   "cell_type": "code",
   "execution_count": 76,
   "metadata": {
    "scrolled": true
   },
   "outputs": [
    {
     "name": "stdout",
     "output_type": "stream",
     "text": [
      "Epoch 1/5\n",
      "35/35 [==============================] - 3s 85ms/step - loss: 0.1216 - accuracy: 0.9605 - val_loss: 0.1466 - val_accuracy: 0.9475\n",
      "Epoch 2/5\n",
      "35/35 [==============================] - 4s 119ms/step - loss: 0.1121 - accuracy: 0.9636 - val_loss: 0.1393 - val_accuracy: 0.9522\n",
      "Epoch 3/5\n",
      "35/35 [==============================] - 4s 102ms/step - loss: 0.1047 - accuracy: 0.9644 - val_loss: 0.1316 - val_accuracy: 0.9550\n",
      "Epoch 4/5\n",
      "35/35 [==============================] - 3s 97ms/step - loss: 0.0969 - accuracy: 0.9683 - val_loss: 0.1263 - val_accuracy: 0.9572\n",
      "Epoch 5/5\n",
      "35/35 [==============================] - 4s 119ms/step - loss: 0.0893 - accuracy: 0.9713 - val_loss: 0.1228 - val_accuracy: 0.9600\n"
     ]
    }
   ],
   "source": [
    "# https://www.tensorflow.org/tensorboard/get_started\n",
    "\n",
    "log_dir = \"logs/fit/\" + datetime.datetime.now().strftime(\"%Y%m%d-%H%M%S\")\n",
    "tensorboard_callback = tf.keras.callbacks.TensorBoard(log_dir=log_dir, histogram_freq=1)\n",
    "\n",
    "\n",
    "history = model.fit(train_data.shuffle(10000).batch(512),\n",
    "                    epochs=5,\n",
    "                    validation_data=validation_data.batch(512),\n",
    "                    verbose=1, \n",
    "                    callbacks=[tensorboard_callback])"
   ]
  },
  {
   "cell_type": "code",
   "execution_count": 49,
   "metadata": {},
   "outputs": [
    {
     "name": "stdout",
     "output_type": "stream",
     "text": [
      "5/5 - 0s - loss: 0.3336 - accuracy: 0.8592\n",
      "loss: 0.334\n",
      "accuracy: 0.859\n"
     ]
    }
   ],
   "source": [
    "results = model.evaluate(test_data.batch(512), verbose=2)\n",
    "for name, value in zip(model.metrics_names, results):\n",
    "  print(\"%s: %.3f\" % (name, value))"
   ]
  },
  {
   "cell_type": "code",
   "execution_count": 71,
   "metadata": {},
   "outputs": [
    {
     "name": "stdout",
     "output_type": "stream",
     "text": [
      "5/5 - 0s - loss: 0.3271 - accuracy: 0.8652\n",
      "loss: 0.327\n",
      "accuracy: 0.865\n"
     ]
    }
   ],
   "source": [
    "results = model.evaluate(test_data.batch(512), verbose=2)\n",
    "for name, value in zip(model.metrics_names, results):\n",
    "  print(\"%s: %.3f\" % (name, value))"
   ]
  },
  {
   "cell_type": "code",
   "execution_count": 72,
   "metadata": {},
   "outputs": [
    {
     "name": "stdout",
     "output_type": "stream",
     "text": [
      "The tensorboard extension is already loaded. To reload it, use:\n",
      "  %reload_ext tensorboard\n"
     ]
    }
   ],
   "source": [
    "# Запустил модуль визуализации результатов обучения сети\n",
    "\n",
    "%load_ext tensorboard"
   ]
  },
  {
   "cell_type": "code",
   "execution_count": 65,
   "metadata": {},
   "outputs": [],
   "source": [
    "# Clear any logs from previous runs\n",
    "!rm -rf ./logs/ "
   ]
  },
  {
   "cell_type": "code",
   "execution_count": 73,
   "metadata": {},
   "outputs": [
    {
     "data": {
      "text/plain": [
       "Reusing TensorBoard on port 6006 (pid 4367), started 0:04:38 ago. (Use '!kill 4367' to kill it.)"
      ]
     },
     "metadata": {},
     "output_type": "display_data"
    },
    {
     "data": {
      "text/html": [
       "\n",
       "      <iframe id=\"tensorboard-frame-ef2e0532763fb391\" width=\"100%\" height=\"800\" frameborder=\"0\">\n",
       "      </iframe>\n",
       "      <script>\n",
       "        (function() {\n",
       "          const frame = document.getElementById(\"tensorboard-frame-ef2e0532763fb391\");\n",
       "          const url = new URL(\"/\", window.location);\n",
       "          url.port = 6006;\n",
       "          frame.src = url;\n",
       "        })();\n",
       "      </script>\n",
       "  "
      ],
      "text/plain": [
       "<IPython.core.display.HTML object>"
      ]
     },
     "metadata": {},
     "output_type": "display_data"
    }
   ],
   "source": [
    "%tensorboard --logdir logs/fit\n"
   ]
  },
  {
   "cell_type": "code",
   "execution_count": 87,
   "metadata": {},
   "outputs": [
    {
     "name": "stdout",
     "output_type": "stream",
     "text": [
      "Failed to import pydot. You must install pydot and graphviz for `pydotprint` to work.\n"
     ]
    }
   ],
   "source": [
    "from keras.utils import plot_model\n",
    "\n",
    "\n",
    "keras.utils.plot_model(model, 'model.png', show_shapes=True)"
   ]
  },
  {
   "cell_type": "code",
   "execution_count": 90,
   "metadata": {},
   "outputs": [],
   "source": [
    "# Альтернативный способ визуализации\n",
    "#  Взято у https://github.com/mindblower5000/neural-nets/blob/4a12ab3f518da7826b98deff1b82b3747d5730c1/hw3.ipynb\n",
    "\n",
    "import matplotlib.pyplot as plt\n",
    "plt.style.use('ggplot')\n",
    "\n",
    "def plot_history(history):\n",
    "    acc = history.history['accuracy']\n",
    "    val_acc = history.history['val_accuracy']\n",
    "    loss = history.history['loss']\n",
    "    val_loss = history.history['val_loss']\n",
    "    x = range(1, len(acc) + 1)\n",
    "\n",
    "    plt.figure(figsize=(12, 5))\n",
    "    plt.subplot(1, 2, 1)\n",
    "    plt.plot(x, acc, 'b', label='Training acc')\n",
    "    plt.plot(x, val_acc, 'r', label='Validation acc')\n",
    "    plt.title('Training and validation accuracy')\n",
    "    plt.legend()\n",
    "    plt.subplot(1, 2, 2)\n",
    "    plt.plot(x, loss, 'b', label='Training loss')\n",
    "    plt.plot(x, val_loss, 'r', label='Validation loss')\n",
    "    plt.title('Training and validation loss')\n",
    "    plt.legend()"
   ]
  },
  {
   "cell_type": "code",
   "execution_count": 91,
   "metadata": {},
   "outputs": [
    {
     "data": {
      "image/png": "[encoded data removed]",
      "text/plain": [
       "<Figure size 864x360 with 2 Axes>"
      ]
     },
     "metadata": {},
     "output_type": "display_data"
    }
   ],
   "source": [
    "plot_history(history)\n",
    "# График указывает, что стоит увеличить кол-во эпох"
   ]
  },
  {
   "cell_type": "code",
   "execution_count": null,
   "metadata": {},
   "outputs": [],
   "source": []
  },
  {
   "cell_type": "code",
   "execution_count": 92,
   "metadata": {
    "scrolled": true
   },
   "outputs": [
    {
     "name": "stdout",
     "output_type": "stream",
     "text": [
      "Epoch 1/30\n",
      "35/35 [==============================] - 3s 86ms/step - loss: 0.0820 - accuracy: 0.9746 - val_loss: 0.1183 - val_accuracy: 0.9612\n",
      "Epoch 2/30\n",
      "35/35 [==============================] - 3s 88ms/step - loss: 0.0787 - accuracy: 0.9759 - val_loss: 0.1171 - val_accuracy: 0.9621\n",
      "Epoch 3/30\n",
      "35/35 [==============================] - 3s 93ms/step - loss: 0.0707 - accuracy: 0.9790 - val_loss: 0.1143 - val_accuracy: 0.9635\n",
      "Epoch 4/30\n",
      "35/35 [==============================] - 3s 99ms/step - loss: 0.0651 - accuracy: 0.9811 - val_loss: 0.1104 - val_accuracy: 0.9671\n",
      "Epoch 5/30\n",
      "35/35 [==============================] - 3s 99ms/step - loss: 0.0606 - accuracy: 0.9828 - val_loss: 0.1073 - val_accuracy: 0.9685\n",
      "Epoch 6/30\n",
      "35/35 [==============================] - 4s 108ms/step - loss: 0.0552 - accuracy: 0.9855 - val_loss: 0.1051 - val_accuracy: 0.9695\n",
      "Epoch 7/30\n",
      "35/35 [==============================] - 3s 85ms/step - loss: 0.0505 - accuracy: 0.9870 - val_loss: 0.1037 - val_accuracy: 0.9711\n",
      "Epoch 8/30\n",
      "35/35 [==============================] - 4s 109ms/step - loss: 0.0460 - accuracy: 0.9888 - val_loss: 0.1026 - val_accuracy: 0.9725\n",
      "Epoch 9/30\n",
      "35/35 [==============================] - 3s 84ms/step - loss: 0.0426 - accuracy: 0.9900 - val_loss: 0.1012 - val_accuracy: 0.9738\n",
      "Epoch 10/30\n",
      "35/35 [==============================] - 3s 84ms/step - loss: 0.0380 - accuracy: 0.9922 - val_loss: 0.1005 - val_accuracy: 0.9742\n",
      "Epoch 11/30\n",
      "35/35 [==============================] - 3s 93ms/step - loss: 0.0345 - accuracy: 0.9929 - val_loss: 0.1013 - val_accuracy: 0.9753\n",
      "Epoch 12/30\n",
      "35/35 [==============================] - 3s 83ms/step - loss: 0.0311 - accuracy: 0.9947 - val_loss: 0.1006 - val_accuracy: 0.9761\n",
      "Epoch 13/30\n",
      "35/35 [==============================] - 3s 93ms/step - loss: 0.0278 - accuracy: 0.9957 - val_loss: 0.1003 - val_accuracy: 0.9773\n",
      "Epoch 14/30\n",
      "35/35 [==============================] - 3s 96ms/step - loss: 0.0248 - accuracy: 0.9965 - val_loss: 0.1008 - val_accuracy: 0.9774\n",
      "Epoch 15/30\n",
      "35/35 [==============================] - 4s 125ms/step - loss: 0.0226 - accuracy: 0.9971 - val_loss: 0.1015 - val_accuracy: 0.9777\n",
      "Epoch 16/30\n",
      "35/35 [==============================] - 3s 100ms/step - loss: 0.0201 - accuracy: 0.9975 - val_loss: 0.1051 - val_accuracy: 0.9774\n",
      "Epoch 17/30\n",
      "35/35 [==============================] - 4s 107ms/step - loss: 0.0183 - accuracy: 0.9977 - val_loss: 0.1024 - val_accuracy: 0.9786\n",
      "Epoch 18/30\n",
      "35/35 [==============================] - 4s 116ms/step - loss: 0.0159 - accuracy: 0.9982 - val_loss: 0.1036 - val_accuracy: 0.9787\n",
      "Epoch 19/30\n",
      "35/35 [==============================] - 3s 86ms/step - loss: 0.0142 - accuracy: 0.9986 - val_loss: 0.1055 - val_accuracy: 0.9787\n",
      "Epoch 20/30\n",
      "35/35 [==============================] - 3s 89ms/step - loss: 0.0125 - accuracy: 0.9988 - val_loss: 0.1069 - val_accuracy: 0.9787\n",
      "Epoch 21/30\n",
      "35/35 [==============================] - 3s 80ms/step - loss: 0.0111 - accuracy: 0.9993 - val_loss: 0.1087 - val_accuracy: 0.9790\n",
      "Epoch 22/30\n",
      "35/35 [==============================] - 3s 77ms/step - loss: 0.0096 - accuracy: 0.9994 - val_loss: 0.1113 - val_accuracy: 0.9791\n",
      "Epoch 23/30\n",
      "35/35 [==============================] - 3s 88ms/step - loss: 0.0089 - accuracy: 0.9995 - val_loss: 0.1120 - val_accuracy: 0.9789\n",
      "Epoch 24/30\n",
      "35/35 [==============================] - 3s 78ms/step - loss: 0.0076 - accuracy: 0.9996 - val_loss: 0.1140 - val_accuracy: 0.9788\n",
      "Epoch 25/30\n",
      "35/35 [==============================] - 3s 79ms/step - loss: 0.0067 - accuracy: 0.9996 - val_loss: 0.1159 - val_accuracy: 0.9787\n",
      "Epoch 26/30\n",
      "35/35 [==============================] - 3s 77ms/step - loss: 0.0058 - accuracy: 0.9997 - val_loss: 0.1174 - val_accuracy: 0.9790\n",
      "Epoch 27/30\n",
      "35/35 [==============================] - 3s 84ms/step - loss: 0.0051 - accuracy: 0.9998 - val_loss: 0.1203 - val_accuracy: 0.9789\n",
      "Epoch 28/30\n",
      "35/35 [==============================] - 3s 87ms/step - loss: 0.0047 - accuracy: 0.9999 - val_loss: 0.1217 - val_accuracy: 0.9791\n",
      "Epoch 29/30\n",
      "35/35 [==============================] - 3s 87ms/step - loss: 0.0041 - accuracy: 0.9999 - val_loss: 0.1239 - val_accuracy: 0.9792\n",
      "Epoch 30/30\n",
      "35/35 [==============================] - 3s 88ms/step - loss: 0.0037 - accuracy: 0.9999 - val_loss: 0.1255 - val_accuracy: 0.9789\n"
     ]
    }
   ],
   "source": [
    "# https://www.tensorflow.org/tensorboard/get_started\n",
    "\n",
    "log_dir = \"logs/fit/\" + datetime.datetime.now().strftime(\"%Y%m%d-%H%M%S\")\n",
    "tensorboard_callback = tf.keras.callbacks.TensorBoard(log_dir=log_dir, histogram_freq=1)\n",
    "\n",
    "\n",
    "history = model.fit(train_data.shuffle(10000).batch(512),\n",
    "                    epochs=30,\n",
    "                    validation_data=validation_data.batch(512),\n",
    "                    verbose=1, \n",
    "                    callbacks=[tensorboard_callback])"
   ]
  },
  {
   "cell_type": "code",
   "execution_count": 93,
   "metadata": {},
   "outputs": [
    {
     "data": {
      "image/png": "[encoded data removed]",
      "text/plain": [
       "<Figure size 864x360 with 2 Axes>"
      ]
     },
     "metadata": {},
     "output_type": "display_data"
    }
   ],
   "source": [
    "plot_history(history)\n",
    "# Функция потерь минимальна при 10 эпохах. Это оптимальный параметр. Далее - переобучение?\n",
    "# Метрика перестаёт растипри 20 эпохах"
   ]
  },
  {
   "cell_type": "code",
   "execution_count": null,
   "metadata": {},
   "outputs": [],
   "source": []
  }
 ],
 "metadata": {
  "colab": {
   "collapsed_sections": [],
   "name": "classification.ipynb",
   "private_outputs": true,
   "provenance": [],
   "toc_visible": true
  },
  "kernelspec": {
   "display_name": "Python 3",
   "language": "python",
   "name": "python3"
  },
  "language_info": {
   "codemirror_mode": {
    "name": "ipython",
    "version": 3
   },
   "file_extension": ".py",
   "mimetype": "text/x-python",
   "name": "python",
   "nbconvert_exporter": "python",
   "pygments_lexer": "ipython3",
   "version": "3.7.6"
  }
 },
 "nbformat": 4,
 "nbformat_minor": 1
}
